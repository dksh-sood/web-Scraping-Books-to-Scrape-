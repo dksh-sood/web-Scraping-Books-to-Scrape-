{
 "cells": [
  {
   "cell_type": "code",
   "execution_count": 46,
   "id": "f2593386",
   "metadata": {},
   "outputs": [
    {
     "name": "stdout",
     "output_type": "stream",
     "text": [
      "Requirement already satisfied: beautifulsoup4 in c:\\users\\91742\\appdata\\local\\programs\\python\\python313\\lib\\site-packages (4.13.4)\n",
      "Requirement already satisfied: soupsieve>1.2 in c:\\users\\91742\\appdata\\local\\programs\\python\\python313\\lib\\site-packages (from beautifulsoup4) (2.7)\n",
      "Requirement already satisfied: typing-extensions>=4.0.0 in c:\\users\\91742\\appdata\\local\\programs\\python\\python313\\lib\\site-packages (from beautifulsoup4) (4.12.2)\n",
      "Note: you may need to restart the kernel to use updated packages.\n"
     ]
    },
    {
     "name": "stderr",
     "output_type": "stream",
     "text": [
      "\n",
      "[notice] A new release of pip is available: 24.3.1 -> 25.1.1\n",
      "[notice] To update, run: python.exe -m pip install --upgrade pip\n"
     ]
    }
   ],
   "source": [
    "pip install beautifulsoup4"
   ]
  },
  {
   "cell_type": "code",
   "execution_count": 47,
   "id": "6148b2e7",
   "metadata": {},
   "outputs": [],
   "source": [
    "import pandas as pd\n",
    "import requests\n",
    "from bs4 import BeautifulSoup"
   ]
  },
  {
   "cell_type": "code",
   "execution_count": 48,
   "id": "0f55a3e6",
   "metadata": {},
   "outputs": [
    {
     "name": "stdout",
     "output_type": "stream",
     "text": [
      "Scraping page 1...\n",
      "Scraping page 2...\n",
      "Scraping page 3...\n",
      "Scraping page 4...\n",
      "Scraping page 5...\n",
      "Scraping page 6...\n",
      "Scraping page 7...\n",
      "Scraping page 8...\n",
      "Scraping page 9...\n",
      "Scraping page 10...\n",
      "Scraping page 11...\n",
      "Scraping page 12...\n",
      "Scraping page 13...\n",
      "Scraping page 14...\n",
      "Scraping page 15...\n",
      "Scraping page 16...\n",
      "Scraping page 17...\n",
      "Scraping page 18...\n",
      "Scraping page 19...\n",
      "Scraping page 20...\n",
      "Scraping page 21...\n",
      "Scraping page 22...\n",
      "Scraping page 23...\n",
      "Scraping page 24...\n",
      "Scraping page 25...\n",
      "Scraping page 26...\n",
      "Scraping page 27...\n",
      "Scraping page 28...\n",
      "Scraping page 29...\n",
      "Scraping page 30...\n",
      "Scraping page 31...\n",
      "Scraping page 32...\n",
      "Scraping page 33...\n",
      "Scraping page 34...\n",
      "Scraping page 35...\n",
      "Scraping page 36...\n",
      "Scraping page 37...\n",
      "Scraping page 38...\n",
      "Scraping page 39...\n",
      "Scraping page 40...\n",
      "Scraping page 41...\n",
      "Scraping page 42...\n",
      "Scraping page 43...\n",
      "Scraping page 44...\n",
      "Scraping page 45...\n",
      "Scraping page 46...\n",
      "Scraping page 47...\n",
      "Scraping page 48...\n",
      "Scraping page 49...\n",
      "Scraping page 50...\n",
      "Scraping completed. Data saved to 'books_to_scrape.csv'\n"
     ]
    }
   ],
   "source": [
    "import requests\n",
    "from bs4 import BeautifulSoup\n",
    "import pandas as pd\n",
    "import time\n",
    "\n",
    "base_url = \"https://books.toscrape.com/catalogue/page-{}.html\"\n",
    "book_data = []\n",
    "\n",
    "# Rating mapping from word to number\n",
    "rating_map = {\n",
    "    \"One\": 1,\n",
    "    \"Two\": 2,\n",
    "    \"Three\": 3,\n",
    "    \"Four\": 4,\n",
    "    \"Five\": 5\n",
    "}\n",
    "\n",
    "# Loop through first 50 pages \n",
    "for page in range(1, 51):\n",
    "    print(f\"Scraping page {page}...\")\n",
    "    url = base_url.format(page)\n",
    "    response = requests.get(url)\n",
    "    soup = BeautifulSoup(response.content, 'html.parser')\n",
    "    \n",
    "    books = soup.find_all(\"article\", class_=\"product_pod\")\n",
    "\n",
    "    for book in books:\n",
    "        title = book.h3.a['title']\n",
    "        price = book.find(\"p\", class_=\"price_color\").text.replace('£', '')\n",
    "        availability = book.find(\"p\", class_=\"instock availability\").text.strip()\n",
    "        rating_class = book.find(\"p\", class_=\"star-rating\")['class'][1]\n",
    "        rating = rating_map.get(rating_class, 0)\n",
    "\n",
    "        book_data.append({\n",
    "            \"Title\": title,\n",
    "            \"Price (£)\": float(price),\n",
    "            \"Rating (1-5)\": rating,\n",
    "            \"Availability\": availability\n",
    "        })\n",
    "\n",
    "    time.sleep(1) \n",
    "\n",
    "# save the data into CSV file\n",
    "df = pd.DataFrame(book_data)\n",
    "df.to_csv(\"books_to_scrape.csv\", index=False)\n",
    "print(\"Scraping completed. Data saved to 'books_to_scrape.csv'\")\n"
   ]
  },
  {
   "cell_type": "markdown",
   "id": "39083631",
   "metadata": {},
   "source": [
    "## Implementing Machine Learning model"
   ]
  },
  {
   "cell_type": "code",
   "execution_count": 49,
   "id": "1ba5deee",
   "metadata": {},
   "outputs": [
    {
     "name": "stdout",
     "output_type": "stream",
     "text": [
      "Requirement already satisfied: scikit-learn in c:\\users\\91742\\appdata\\local\\programs\\python\\python313\\lib\\site-packages (1.6.1)\n",
      "Requirement already satisfied: numpy>=1.19.5 in c:\\users\\91742\\appdata\\local\\programs\\python\\python313\\lib\\site-packages (from scikit-learn) (2.2.3)\n",
      "Requirement already satisfied: scipy>=1.6.0 in c:\\users\\91742\\appdata\\local\\programs\\python\\python313\\lib\\site-packages (from scikit-learn) (1.15.2)\n",
      "Requirement already satisfied: joblib>=1.2.0 in c:\\users\\91742\\appdata\\local\\programs\\python\\python313\\lib\\site-packages (from scikit-learn) (1.5.0)\n",
      "Requirement already satisfied: threadpoolctl>=3.1.0 in c:\\users\\91742\\appdata\\local\\programs\\python\\python313\\lib\\site-packages (from scikit-learn) (3.6.0)\n",
      "Note: you may need to restart the kernel to use updated packages.\n"
     ]
    },
    {
     "name": "stderr",
     "output_type": "stream",
     "text": [
      "\n",
      "[notice] A new release of pip is available: 24.3.1 -> 25.1.1\n",
      "[notice] To update, run: python.exe -m pip install --upgrade pip\n"
     ]
    }
   ],
   "source": [
    "pip install scikit-learn"
   ]
  },
  {
   "cell_type": "code",
   "execution_count": 50,
   "id": "1ee75e65",
   "metadata": {},
   "outputs": [],
   "source": [
    "import numpy as np\n",
    "import matplotlib.pyplot as plt\n",
    "from sklearn import linear_model"
   ]
  },
  {
   "cell_type": "code",
   "execution_count": 51,
   "id": "e17eead5",
   "metadata": {},
   "outputs": [
    {
     "name": "stdout",
     "output_type": "stream",
     "text": [
      "                                               Title  Price (£)  Rating (1-5)  \\\n",
      "0                               A Light in the Attic      51.77             3   \n",
      "1                                 Tipping the Velvet      53.74             1   \n",
      "2                                         Soumission      50.10             1   \n",
      "3                                      Sharp Objects      47.82             4   \n",
      "4              Sapiens: A Brief History of Humankind      54.23             5   \n",
      "5                                    The Requiem Red      22.65             1   \n",
      "6  The Dirty Little Secrets of Getting Your Dream...      33.34             4   \n",
      "7  The Coming Woman: A Novel Based on the Life of...      17.93             3   \n",
      "8  The Boys in the Boat: Nine Americans and Their...      22.60             4   \n",
      "9                                    The Black Maria      52.15             1   \n",
      "\n",
      "  Availability  \n",
      "0     In stock  \n",
      "1     In stock  \n",
      "2     In stock  \n",
      "3     In stock  \n",
      "4     In stock  \n",
      "5     In stock  \n",
      "6     In stock  \n",
      "7     In stock  \n",
      "8     In stock  \n",
      "9     In stock  \n"
     ]
    }
   ],
   "source": [
    "df = pd.read_csv(\"books_to_scrape.csv\")\n",
    "\n",
    "X = df.iloc[:, :-1].values\n",
    "y = df.iloc[:, -1].values\n",
    "df = df.head(10)\n",
    "print(df)"
   ]
  },
  {
   "cell_type": "code",
   "execution_count": 52,
   "id": "9707bf3e",
   "metadata": {},
   "outputs": [],
   "source": [
    "from sklearn.model_selection import train_test_split\n",
    "X_train, X_test, y_train, y_test = train_test_split(X, y, test_size=1/3, random_state=42)"
   ]
  },
  {
   "cell_type": "code",
   "execution_count": 53,
   "id": "52b0d518",
   "metadata": {},
   "outputs": [
    {
     "name": "stdout",
     "output_type": "stream",
     "text": [
      "[['A Light in the Attic' 51.77 3]\n",
      " ['Dear Mr. Knightley' 11.21 5]\n",
      " ['Two Boys Kissing' 32.74 2]\n",
      " ...\n",
      " ['Civilization and Its Discontents' 59.95 2]\n",
      " ['Modern Day Fables' 47.44 2]\n",
      " ['I am a Hero Omnibus Volume 1' 54.63 3]]\n"
     ]
    }
   ],
   "source": [
    "print(X_train)"
   ]
  },
  {
   "cell_type": "code",
   "execution_count": 54,
   "id": "d1742498",
   "metadata": {},
   "outputs": [
    {
     "name": "stdout",
     "output_type": "stream",
     "text": [
      "['In stock' 'In stock' 'In stock' 'In stock' 'In stock' 'In stock'\n",
      " 'In stock' 'In stock' 'In stock' 'In stock' 'In stock' 'In stock'\n",
      " 'In stock' 'In stock' 'In stock' 'In stock' 'In stock' 'In stock'\n",
      " 'In stock' 'In stock' 'In stock' 'In stock' 'In stock' 'In stock'\n",
      " 'In stock' 'In stock' 'In stock' 'In stock' 'In stock' 'In stock'\n",
      " 'In stock' 'In stock' 'In stock' 'In stock' 'In stock' 'In stock'\n",
      " 'In stock' 'In stock' 'In stock' 'In stock' 'In stock' 'In stock'\n",
      " 'In stock' 'In stock' 'In stock' 'In stock' 'In stock' 'In stock'\n",
      " 'In stock' 'In stock' 'In stock' 'In stock' 'In stock' 'In stock'\n",
      " 'In stock' 'In stock' 'In stock' 'In stock' 'In stock' 'In stock'\n",
      " 'In stock' 'In stock' 'In stock' 'In stock' 'In stock' 'In stock'\n",
      " 'In stock' 'In stock' 'In stock' 'In stock' 'In stock' 'In stock'\n",
      " 'In stock' 'In stock' 'In stock' 'In stock' 'In stock' 'In stock'\n",
      " 'In stock' 'In stock' 'In stock' 'In stock' 'In stock' 'In stock'\n",
      " 'In stock' 'In stock' 'In stock' 'In stock' 'In stock' 'In stock'\n",
      " 'In stock' 'In stock' 'In stock' 'In stock' 'In stock' 'In stock'\n",
      " 'In stock' 'In stock' 'In stock' 'In stock' 'In stock' 'In stock'\n",
      " 'In stock' 'In stock' 'In stock' 'In stock' 'In stock' 'In stock'\n",
      " 'In stock' 'In stock' 'In stock' 'In stock' 'In stock' 'In stock'\n",
      " 'In stock' 'In stock' 'In stock' 'In stock' 'In stock' 'In stock'\n",
      " 'In stock' 'In stock' 'In stock' 'In stock' 'In stock' 'In stock'\n",
      " 'In stock' 'In stock' 'In stock' 'In stock' 'In stock' 'In stock'\n",
      " 'In stock' 'In stock' 'In stock' 'In stock' 'In stock' 'In stock'\n",
      " 'In stock' 'In stock' 'In stock' 'In stock' 'In stock' 'In stock'\n",
      " 'In stock' 'In stock' 'In stock' 'In stock' 'In stock' 'In stock'\n",
      " 'In stock' 'In stock' 'In stock' 'In stock' 'In stock' 'In stock'\n",
      " 'In stock' 'In stock' 'In stock' 'In stock' 'In stock' 'In stock'\n",
      " 'In stock' 'In stock' 'In stock' 'In stock' 'In stock' 'In stock'\n",
      " 'In stock' 'In stock' 'In stock' 'In stock' 'In stock' 'In stock'\n",
      " 'In stock' 'In stock' 'In stock' 'In stock' 'In stock' 'In stock'\n",
      " 'In stock' 'In stock' 'In stock' 'In stock' 'In stock' 'In stock'\n",
      " 'In stock' 'In stock' 'In stock' 'In stock' 'In stock' 'In stock'\n",
      " 'In stock' 'In stock' 'In stock' 'In stock' 'In stock' 'In stock'\n",
      " 'In stock' 'In stock' 'In stock' 'In stock' 'In stock' 'In stock'\n",
      " 'In stock' 'In stock' 'In stock' 'In stock' 'In stock' 'In stock'\n",
      " 'In stock' 'In stock' 'In stock' 'In stock' 'In stock' 'In stock'\n",
      " 'In stock' 'In stock' 'In stock' 'In stock' 'In stock' 'In stock'\n",
      " 'In stock' 'In stock' 'In stock' 'In stock' 'In stock' 'In stock'\n",
      " 'In stock' 'In stock' 'In stock' 'In stock' 'In stock' 'In stock'\n",
      " 'In stock' 'In stock' 'In stock' 'In stock' 'In stock' 'In stock'\n",
      " 'In stock' 'In stock' 'In stock' 'In stock' 'In stock' 'In stock'\n",
      " 'In stock' 'In stock' 'In stock' 'In stock' 'In stock' 'In stock'\n",
      " 'In stock' 'In stock' 'In stock' 'In stock' 'In stock' 'In stock'\n",
      " 'In stock' 'In stock' 'In stock' 'In stock' 'In stock' 'In stock'\n",
      " 'In stock' 'In stock' 'In stock' 'In stock' 'In stock' 'In stock'\n",
      " 'In stock' 'In stock' 'In stock' 'In stock' 'In stock' 'In stock'\n",
      " 'In stock' 'In stock' 'In stock' 'In stock' 'In stock' 'In stock'\n",
      " 'In stock' 'In stock' 'In stock' 'In stock' 'In stock' 'In stock'\n",
      " 'In stock' 'In stock' 'In stock' 'In stock' 'In stock' 'In stock'\n",
      " 'In stock' 'In stock' 'In stock' 'In stock' 'In stock' 'In stock'\n",
      " 'In stock' 'In stock' 'In stock' 'In stock' 'In stock' 'In stock'\n",
      " 'In stock' 'In stock' 'In stock' 'In stock' 'In stock' 'In stock'\n",
      " 'In stock' 'In stock' 'In stock' 'In stock' 'In stock' 'In stock'\n",
      " 'In stock' 'In stock' 'In stock' 'In stock' 'In stock' 'In stock'\n",
      " 'In stock' 'In stock' 'In stock' 'In stock' 'In stock' 'In stock'\n",
      " 'In stock' 'In stock' 'In stock' 'In stock' 'In stock' 'In stock'\n",
      " 'In stock' 'In stock' 'In stock' 'In stock' 'In stock' 'In stock'\n",
      " 'In stock' 'In stock' 'In stock' 'In stock' 'In stock' 'In stock'\n",
      " 'In stock' 'In stock' 'In stock' 'In stock' 'In stock' 'In stock'\n",
      " 'In stock' 'In stock' 'In stock' 'In stock' 'In stock' 'In stock'\n",
      " 'In stock' 'In stock' 'In stock' 'In stock' 'In stock' 'In stock'\n",
      " 'In stock' 'In stock' 'In stock' 'In stock' 'In stock' 'In stock'\n",
      " 'In stock' 'In stock' 'In stock' 'In stock' 'In stock' 'In stock'\n",
      " 'In stock' 'In stock' 'In stock' 'In stock' 'In stock' 'In stock'\n",
      " 'In stock' 'In stock' 'In stock' 'In stock' 'In stock' 'In stock'\n",
      " 'In stock' 'In stock' 'In stock' 'In stock' 'In stock' 'In stock'\n",
      " 'In stock' 'In stock' 'In stock' 'In stock' 'In stock' 'In stock'\n",
      " 'In stock' 'In stock' 'In stock' 'In stock' 'In stock' 'In stock'\n",
      " 'In stock' 'In stock' 'In stock' 'In stock' 'In stock' 'In stock'\n",
      " 'In stock' 'In stock' 'In stock' 'In stock' 'In stock' 'In stock'\n",
      " 'In stock' 'In stock' 'In stock' 'In stock' 'In stock' 'In stock'\n",
      " 'In stock' 'In stock' 'In stock' 'In stock' 'In stock' 'In stock'\n",
      " 'In stock' 'In stock' 'In stock' 'In stock' 'In stock' 'In stock'\n",
      " 'In stock' 'In stock' 'In stock' 'In stock' 'In stock' 'In stock'\n",
      " 'In stock' 'In stock' 'In stock' 'In stock' 'In stock' 'In stock'\n",
      " 'In stock' 'In stock' 'In stock' 'In stock' 'In stock' 'In stock'\n",
      " 'In stock' 'In stock' 'In stock' 'In stock' 'In stock' 'In stock'\n",
      " 'In stock' 'In stock' 'In stock' 'In stock' 'In stock' 'In stock'\n",
      " 'In stock' 'In stock' 'In stock' 'In stock' 'In stock' 'In stock'\n",
      " 'In stock' 'In stock' 'In stock' 'In stock' 'In stock' 'In stock'\n",
      " 'In stock' 'In stock' 'In stock' 'In stock' 'In stock' 'In stock'\n",
      " 'In stock' 'In stock' 'In stock' 'In stock' 'In stock' 'In stock'\n",
      " 'In stock' 'In stock' 'In stock' 'In stock' 'In stock' 'In stock'\n",
      " 'In stock' 'In stock' 'In stock' 'In stock' 'In stock' 'In stock'\n",
      " 'In stock' 'In stock' 'In stock' 'In stock' 'In stock' 'In stock'\n",
      " 'In stock' 'In stock' 'In stock' 'In stock' 'In stock' 'In stock'\n",
      " 'In stock' 'In stock' 'In stock' 'In stock' 'In stock' 'In stock'\n",
      " 'In stock' 'In stock' 'In stock' 'In stock' 'In stock' 'In stock'\n",
      " 'In stock' 'In stock' 'In stock' 'In stock' 'In stock' 'In stock'\n",
      " 'In stock' 'In stock' 'In stock' 'In stock' 'In stock' 'In stock'\n",
      " 'In stock' 'In stock' 'In stock' 'In stock' 'In stock' 'In stock'\n",
      " 'In stock' 'In stock' 'In stock' 'In stock' 'In stock' 'In stock'\n",
      " 'In stock' 'In stock' 'In stock' 'In stock' 'In stock' 'In stock'\n",
      " 'In stock' 'In stock' 'In stock' 'In stock' 'In stock' 'In stock'\n",
      " 'In stock' 'In stock' 'In stock' 'In stock' 'In stock' 'In stock'\n",
      " 'In stock' 'In stock' 'In stock' 'In stock' 'In stock' 'In stock'\n",
      " 'In stock' 'In stock' 'In stock' 'In stock' 'In stock' 'In stock'\n",
      " 'In stock' 'In stock' 'In stock' 'In stock' 'In stock' 'In stock'\n",
      " 'In stock' 'In stock' 'In stock' 'In stock' 'In stock' 'In stock'\n",
      " 'In stock' 'In stock' 'In stock' 'In stock' 'In stock' 'In stock'\n",
      " 'In stock' 'In stock' 'In stock' 'In stock' 'In stock' 'In stock'\n",
      " 'In stock' 'In stock' 'In stock' 'In stock' 'In stock' 'In stock'\n",
      " 'In stock' 'In stock' 'In stock' 'In stock' 'In stock' 'In stock'\n",
      " 'In stock' 'In stock' 'In stock' 'In stock' 'In stock' 'In stock'\n",
      " 'In stock' 'In stock' 'In stock' 'In stock' 'In stock' 'In stock'\n",
      " 'In stock' 'In stock' 'In stock' 'In stock' 'In stock' 'In stock'\n",
      " 'In stock' 'In stock' 'In stock' 'In stock' 'In stock' 'In stock'\n",
      " 'In stock' 'In stock' 'In stock' 'In stock' 'In stock' 'In stock'\n",
      " 'In stock' 'In stock' 'In stock' 'In stock' 'In stock' 'In stock'\n",
      " 'In stock' 'In stock' 'In stock' 'In stock' 'In stock' 'In stock'\n",
      " 'In stock' 'In stock' 'In stock' 'In stock' 'In stock' 'In stock']\n"
     ]
    }
   ],
   "source": [
    "print(y_train)"
   ]
  },
  {
   "cell_type": "code",
   "execution_count": 55,
   "id": "ecf76b56",
   "metadata": {},
   "outputs": [
    {
     "name": "stdout",
     "output_type": "stream",
     "text": [
      "<class 'pandas.core.frame.DataFrame'>\n",
      "RangeIndex: 10 entries, 0 to 9\n",
      "Data columns (total 4 columns):\n",
      " #   Column        Non-Null Count  Dtype  \n",
      "---  ------        --------------  -----  \n",
      " 0   Title         10 non-null     object \n",
      " 1   Price (£)     10 non-null     float64\n",
      " 2   Rating (1-5)  10 non-null     int64  \n",
      " 3   Availability  10 non-null     object \n",
      "dtypes: float64(1), int64(1), object(2)\n",
      "memory usage: 452.0+ bytes\n"
     ]
    }
   ],
   "source": [
    "df.info()"
   ]
  },
  {
   "cell_type": "code",
   "execution_count": 56,
   "id": "ac32ec1f",
   "metadata": {},
   "outputs": [
    {
     "data": {
      "text/html": [
       "<div>\n",
       "<style scoped>\n",
       "    .dataframe tbody tr th:only-of-type {\n",
       "        vertical-align: middle;\n",
       "    }\n",
       "\n",
       "    .dataframe tbody tr th {\n",
       "        vertical-align: top;\n",
       "    }\n",
       "\n",
       "    .dataframe thead th {\n",
       "        text-align: right;\n",
       "    }\n",
       "</style>\n",
       "<table border=\"1\" class=\"dataframe\">\n",
       "  <thead>\n",
       "    <tr style=\"text-align: right;\">\n",
       "      <th></th>\n",
       "      <th>Price (£)</th>\n",
       "      <th>Rating (1-5)</th>\n",
       "    </tr>\n",
       "  </thead>\n",
       "  <tbody>\n",
       "    <tr>\n",
       "      <th>count</th>\n",
       "      <td>10.000000</td>\n",
       "      <td>10.000000</td>\n",
       "    </tr>\n",
       "    <tr>\n",
       "      <th>mean</th>\n",
       "      <td>40.633000</td>\n",
       "      <td>2.700000</td>\n",
       "    </tr>\n",
       "    <tr>\n",
       "      <th>std</th>\n",
       "      <td>14.801706</td>\n",
       "      <td>1.567021</td>\n",
       "    </tr>\n",
       "    <tr>\n",
       "      <th>min</th>\n",
       "      <td>17.930000</td>\n",
       "      <td>1.000000</td>\n",
       "    </tr>\n",
       "    <tr>\n",
       "      <th>25%</th>\n",
       "      <td>25.322500</td>\n",
       "      <td>1.000000</td>\n",
       "    </tr>\n",
       "    <tr>\n",
       "      <th>50%</th>\n",
       "      <td>48.960000</td>\n",
       "      <td>3.000000</td>\n",
       "    </tr>\n",
       "    <tr>\n",
       "      <th>75%</th>\n",
       "      <td>52.055000</td>\n",
       "      <td>4.000000</td>\n",
       "    </tr>\n",
       "    <tr>\n",
       "      <th>max</th>\n",
       "      <td>54.230000</td>\n",
       "      <td>5.000000</td>\n",
       "    </tr>\n",
       "  </tbody>\n",
       "</table>\n",
       "</div>"
      ],
      "text/plain": [
       "       Price (£)  Rating (1-5)\n",
       "count  10.000000     10.000000\n",
       "mean   40.633000      2.700000\n",
       "std    14.801706      1.567021\n",
       "min    17.930000      1.000000\n",
       "25%    25.322500      1.000000\n",
       "50%    48.960000      3.000000\n",
       "75%    52.055000      4.000000\n",
       "max    54.230000      5.000000"
      ]
     },
     "execution_count": 56,
     "metadata": {},
     "output_type": "execute_result"
    }
   ],
   "source": [
    "df.describe()"
   ]
  },
  {
   "cell_type": "code",
   "execution_count": 57,
   "id": "5c080736",
   "metadata": {},
   "outputs": [
    {
     "data": {
      "text/html": [
       "<div>\n",
       "<style scoped>\n",
       "    .dataframe tbody tr th:only-of-type {\n",
       "        vertical-align: middle;\n",
       "    }\n",
       "\n",
       "    .dataframe tbody tr th {\n",
       "        vertical-align: top;\n",
       "    }\n",
       "\n",
       "    .dataframe thead th {\n",
       "        text-align: right;\n",
       "    }\n",
       "</style>\n",
       "<table border=\"1\" class=\"dataframe\">\n",
       "  <thead>\n",
       "    <tr style=\"text-align: right;\">\n",
       "      <th></th>\n",
       "      <th>Title</th>\n",
       "      <th>Price (£)</th>\n",
       "      <th>Rating (1-5)</th>\n",
       "      <th>Availability</th>\n",
       "    </tr>\n",
       "  </thead>\n",
       "  <tbody>\n",
       "    <tr>\n",
       "      <th>0</th>\n",
       "      <td>False</td>\n",
       "      <td>False</td>\n",
       "      <td>False</td>\n",
       "      <td>False</td>\n",
       "    </tr>\n",
       "    <tr>\n",
       "      <th>1</th>\n",
       "      <td>False</td>\n",
       "      <td>False</td>\n",
       "      <td>False</td>\n",
       "      <td>False</td>\n",
       "    </tr>\n",
       "    <tr>\n",
       "      <th>2</th>\n",
       "      <td>False</td>\n",
       "      <td>False</td>\n",
       "      <td>False</td>\n",
       "      <td>False</td>\n",
       "    </tr>\n",
       "    <tr>\n",
       "      <th>3</th>\n",
       "      <td>False</td>\n",
       "      <td>False</td>\n",
       "      <td>False</td>\n",
       "      <td>False</td>\n",
       "    </tr>\n",
       "    <tr>\n",
       "      <th>4</th>\n",
       "      <td>False</td>\n",
       "      <td>False</td>\n",
       "      <td>False</td>\n",
       "      <td>False</td>\n",
       "    </tr>\n",
       "    <tr>\n",
       "      <th>5</th>\n",
       "      <td>False</td>\n",
       "      <td>False</td>\n",
       "      <td>False</td>\n",
       "      <td>False</td>\n",
       "    </tr>\n",
       "    <tr>\n",
       "      <th>6</th>\n",
       "      <td>False</td>\n",
       "      <td>False</td>\n",
       "      <td>False</td>\n",
       "      <td>False</td>\n",
       "    </tr>\n",
       "    <tr>\n",
       "      <th>7</th>\n",
       "      <td>False</td>\n",
       "      <td>False</td>\n",
       "      <td>False</td>\n",
       "      <td>False</td>\n",
       "    </tr>\n",
       "    <tr>\n",
       "      <th>8</th>\n",
       "      <td>False</td>\n",
       "      <td>False</td>\n",
       "      <td>False</td>\n",
       "      <td>False</td>\n",
       "    </tr>\n",
       "    <tr>\n",
       "      <th>9</th>\n",
       "      <td>False</td>\n",
       "      <td>False</td>\n",
       "      <td>False</td>\n",
       "      <td>False</td>\n",
       "    </tr>\n",
       "  </tbody>\n",
       "</table>\n",
       "</div>"
      ],
      "text/plain": [
       "   Title  Price (£)  Rating (1-5)  Availability\n",
       "0  False      False         False         False\n",
       "1  False      False         False         False\n",
       "2  False      False         False         False\n",
       "3  False      False         False         False\n",
       "4  False      False         False         False\n",
       "5  False      False         False         False\n",
       "6  False      False         False         False\n",
       "7  False      False         False         False\n",
       "8  False      False         False         False\n",
       "9  False      False         False         False"
      ]
     },
     "execution_count": 57,
     "metadata": {},
     "output_type": "execute_result"
    }
   ],
   "source": [
    "df.isnull()"
   ]
  },
  {
   "cell_type": "code",
   "execution_count": 58,
   "id": "039c585d",
   "metadata": {},
   "outputs": [
    {
     "name": "stdout",
     "output_type": "stream",
     "text": [
      "Requirement already satisfied: seaborn in c:\\users\\91742\\appdata\\local\\programs\\python\\python313\\lib\\site-packages (0.13.2)\n",
      "Requirement already satisfied: numpy!=1.24.0,>=1.20 in c:\\users\\91742\\appdata\\local\\programs\\python\\python313\\lib\\site-packages (from seaborn) (2.2.3)\n",
      "Requirement already satisfied: pandas>=1.2 in c:\\users\\91742\\appdata\\local\\programs\\python\\python313\\lib\\site-packages (from seaborn) (2.2.3)\n",
      "Requirement already satisfied: matplotlib!=3.6.1,>=3.4 in c:\\users\\91742\\appdata\\local\\programs\\python\\python313\\lib\\site-packages (from seaborn) (3.10.1)\n",
      "Requirement already satisfied: contourpy>=1.0.1 in c:\\users\\91742\\appdata\\local\\programs\\python\\python313\\lib\\site-packages (from matplotlib!=3.6.1,>=3.4->seaborn) (1.3.1)\n",
      "Requirement already satisfied: cycler>=0.10 in c:\\users\\91742\\appdata\\local\\programs\\python\\python313\\lib\\site-packages (from matplotlib!=3.6.1,>=3.4->seaborn) (0.12.1)\n",
      "Requirement already satisfied: fonttools>=4.22.0 in c:\\users\\91742\\appdata\\local\\programs\\python\\python313\\lib\\site-packages (from matplotlib!=3.6.1,>=3.4->seaborn) (4.56.0)\n",
      "Requirement already satisfied: kiwisolver>=1.3.1 in c:\\users\\91742\\appdata\\local\\programs\\python\\python313\\lib\\site-packages (from matplotlib!=3.6.1,>=3.4->seaborn) (1.4.8)\n",
      "Requirement already satisfied: packaging>=20.0 in c:\\users\\91742\\appdata\\roaming\\python\\python313\\site-packages (from matplotlib!=3.6.1,>=3.4->seaborn) (24.2)\n",
      "Requirement already satisfied: pillow>=8 in c:\\users\\91742\\appdata\\local\\programs\\python\\python313\\lib\\site-packages (from matplotlib!=3.6.1,>=3.4->seaborn) (11.1.0)\n",
      "Requirement already satisfied: pyparsing>=2.3.1 in c:\\users\\91742\\appdata\\local\\programs\\python\\python313\\lib\\site-packages (from matplotlib!=3.6.1,>=3.4->seaborn) (3.2.1)\n",
      "Requirement already satisfied: python-dateutil>=2.7 in c:\\users\\91742\\appdata\\roaming\\python\\python313\\site-packages (from matplotlib!=3.6.1,>=3.4->seaborn) (2.9.0.post0)\n",
      "Requirement already satisfied: pytz>=2020.1 in c:\\users\\91742\\appdata\\local\\programs\\python\\python313\\lib\\site-packages (from pandas>=1.2->seaborn) (2025.1)\n",
      "Requirement already satisfied: tzdata>=2022.7 in c:\\users\\91742\\appdata\\local\\programs\\python\\python313\\lib\\site-packages (from pandas>=1.2->seaborn) (2025.1)\n",
      "Requirement already satisfied: six>=1.5 in c:\\users\\91742\\appdata\\roaming\\python\\python313\\site-packages (from python-dateutil>=2.7->matplotlib!=3.6.1,>=3.4->seaborn) (1.17.0)\n",
      "Note: you may need to restart the kernel to use updated packages.\n"
     ]
    },
    {
     "name": "stderr",
     "output_type": "stream",
     "text": [
      "\n",
      "[notice] A new release of pip is available: 24.3.1 -> 25.1.1\n",
      "[notice] To update, run: python.exe -m pip install --upgrade pip\n"
     ]
    }
   ],
   "source": [
    "pip install seaborn"
   ]
  },
  {
   "cell_type": "code",
   "execution_count": 59,
   "id": "b7f6f7ba",
   "metadata": {},
   "outputs": [],
   "source": [
    "import seaborn as sns\n",
    "\n",
    "import pandas as pd\n",
    "import matplotlib.pyplot as plt\n",
    "import seaborn as sns\n",
    "\n",
    "from sklearn.model_selection import train_test_split\n",
    "from sklearn.linear_model import LinearRegression, LogisticRegression\n",
    "from sklearn.feature_extraction.text import TfidfVectorizer\n",
    "from sklearn.preprocessing import LabelEncoder\n",
    "from sklearn.metrics import mean_squared_error, classification_report"
   ]
  },
  {
   "cell_type": "code",
   "execution_count": 60,
   "id": "07f8521c",
   "metadata": {},
   "outputs": [
    {
     "name": "stdout",
     "output_type": "stream",
     "text": [
      "                                   Title  Price (£)  Rating (1-5) Availability\n",
      "0                   A Light in the Attic      51.77             3     In stock\n",
      "1                     Tipping the Velvet      53.74             1     In stock\n",
      "2                             Soumission      50.10             1     In stock\n",
      "3                          Sharp Objects      47.82             4     In stock\n",
      "4  Sapiens: A Brief History of Humankind      54.23             5     In stock\n",
      "<class 'pandas.core.frame.DataFrame'>\n",
      "RangeIndex: 1000 entries, 0 to 999\n",
      "Data columns (total 4 columns):\n",
      " #   Column        Non-Null Count  Dtype  \n",
      "---  ------        --------------  -----  \n",
      " 0   Title         1000 non-null   object \n",
      " 1   Price (£)     1000 non-null   float64\n",
      " 2   Rating (1-5)  1000 non-null   int64  \n",
      " 3   Availability  1000 non-null   object \n",
      "dtypes: float64(1), int64(1), object(2)\n",
      "memory usage: 31.4+ KB\n",
      "None\n"
     ]
    }
   ],
   "source": [
    "# Step 2: Load Data\n",
    "df = pd.read_csv('books_to_scrape.csv')\n",
    "print(df.head())\n",
    "print(df.info())"
   ]
  },
  {
   "cell_type": "code",
   "execution_count": 61,
   "id": "96dc92c5",
   "metadata": {},
   "outputs": [
    {
     "data": {
      "image/png": "[encoded data removed]",
      "text/plain": [
       "<Figure size 1000x500 with 1 Axes>"
      ]
     },
     "metadata": {},
     "output_type": "display_data"
    }
   ],
   "source": [
    "#Visualize Price Distribution\n",
    "plt.figure(figsize=(10, 5))\n",
    "sns.histplot(df['Price (£)'], bins=30, kde=True, color='skyblue')\n",
    "plt.title(\"Book Price Distribution\")\n",
    "plt.xlabel(\"Price (£)\")\n",
    "plt.ylabel(\"Count\")\n",
    "plt.show()"
   ]
  },
  {
   "cell_type": "code",
   "execution_count": 62,
   "id": "81296f54",
   "metadata": {},
   "outputs": [
    {
     "name": "stderr",
     "output_type": "stream",
     "text": [
      "C:\\Users\\91742\\AppData\\Local\\Temp\\ipykernel_6612\\2526620150.py:3: FutureWarning: \n",
      "\n",
      "Passing `palette` without assigning `hue` is deprecated and will be removed in v0.14.0. Assign the `x` variable to `hue` and set `legend=False` for the same effect.\n",
      "\n",
      "  sns.countplot(data=df, x='Rating (1-5)', palette='viridis')\n"
     ]
    },
    {
     "data": {
      "image/png": "[encoded data removed]",
      "text/plain": [
       "<Figure size 600x400 with 1 Axes>"
      ]
     },
     "metadata": {},
     "output_type": "display_data"
    }
   ],
   "source": [
    "#Visualize Rating Distribution\n",
    "plt.figure(figsize=(6, 4))\n",
    "sns.countplot(data=df, x='Rating (1-5)', palette='viridis')\n",
    "plt.title(\"Rating Distribution\")\n",
    "plt.show()\n"
   ]
  },
  {
   "cell_type": "code",
   "execution_count": 63,
   "id": "bd904fce",
   "metadata": {},
   "outputs": [],
   "source": [
    "#Regression - Predict Price from Rating\n",
    "X = df[['Rating (1-5)']]\n",
    "y = df['Price (£)']\n",
    "\n",
    "X_train, X_test, y_train, y_test = train_test_split(X, y, test_size=0.2, random_state=42)\n",
    "\n",
    "reg = LinearRegression()\n",
    "reg.fit(X_train, y_train)\n",
    "y_pred = reg.predict(X_test)"
   ]
  },
  {
   "cell_type": "code",
   "execution_count": 64,
   "id": "215411bd",
   "metadata": {},
   "outputs": [
    {
     "name": "stdout",
     "output_type": "stream",
     "text": [
      "Mean Squared Error: 211.45\n"
     ]
    }
   ],
   "source": [
    "# Evaluate\n",
    "mse = mean_squared_error(y_test, y_pred)\n",
    "print(f\"Mean Squared Error: {mse:.2f}\")"
   ]
  },
  {
   "cell_type": "code",
   "execution_count": 65,
   "id": "718ca591",
   "metadata": {},
   "outputs": [
    {
     "data": {
      "image/png": "[encoded data removed]",
      "text/plain": [
       "<Figure size 600x400 with 1 Axes>"
      ]
     },
     "metadata": {},
     "output_type": "display_data"
    }
   ],
   "source": [
    "# Visualize\n",
    "plt.figure(figsize=(6, 4))\n",
    "plt.scatter(X_test, y_test, color='blue', label='Actual')\n",
    "plt.plot(X_test, y_pred, color='red', linewidth=2, label='Predicted')\n",
    "plt.title(\"Linear Regression: Price vs Rating\")\n",
    "plt.xlabel(\"Rating\")\n",
    "plt.ylabel(\"Price (£)\")\n",
    "plt.legend()\n",
    "plt.show()\n"
   ]
  },
  {
   "cell_type": "code",
   "execution_count": 66,
   "id": "61cd819f",
   "metadata": {},
   "outputs": [],
   "source": [
    "#Classification - Predict Rating from Title (NLP)\n",
    "X = df['Title']\n",
    "y = df['Rating (1-5)']"
   ]
  },
  {
   "cell_type": "code",
   "execution_count": 67,
   "id": "a1d6004c",
   "metadata": {},
   "outputs": [],
   "source": [
    "# Convert text to TF-IDF vectors\n",
    "vectorizer = TfidfVectorizer(max_features=1000)\n",
    "X_vect = vectorizer.fit_transform(X)\n",
    "\n",
    "X_train, X_test, y_train, y_test = train_test_split(X_vect, y, test_size=0.2, random_state=42)\n",
    "\n",
    "clf = LogisticRegression(max_iter=1000)\n",
    "clf.fit(X_train, y_train)\n",
    "y_pred = clf.predict(X_test)"
   ]
  },
  {
   "cell_type": "code",
   "execution_count": 68,
   "id": "187fbb33",
   "metadata": {},
   "outputs": [
    {
     "name": "stdout",
     "output_type": "stream",
     "text": [
      "\n",
      "Classification Report:\n",
      "              precision    recall  f1-score   support\n",
      "\n",
      "           1       0.21      0.33      0.25        40\n",
      "           2       0.23      0.29      0.26        38\n",
      "           3       0.20      0.26      0.23        42\n",
      "           4       0.25      0.08      0.12        36\n",
      "           5       0.12      0.07      0.09        44\n",
      "\n",
      "    accuracy                           0.20       200\n",
      "   macro avg       0.20      0.21      0.19       200\n",
      "weighted avg       0.20      0.20      0.19       200\n",
      "\n"
     ]
    }
   ],
   "source": [
    "# Evaluation\n",
    "print(\"\\nClassification Report:\")\n",
    "print(classification_report(y_test, y_pred))"
   ]
  },
  {
   "cell_type": "code",
   "execution_count": 69,
   "id": "51aaff6d",
   "metadata": {},
   "outputs": [
    {
     "data": {
      "image/png": "[encoded data removed]",
      "text/plain": [
       "<Figure size 640x480 with 2 Axes>"
      ]
     },
     "metadata": {},
     "output_type": "display_data"
    }
   ],
   "source": [
    "# Confusion Matrix\n",
    "from sklearn.metrics import ConfusionMatrixDisplay\n",
    "ConfusionMatrixDisplay.from_estimator(clf, X_test, y_test, cmap='Blues')\n",
    "plt.title(\"Confusion Matrix\")\n",
    "plt.show()\n"
   ]
  }
 ],
 "metadata": {
  "kernelspec": {
   "display_name": "Python 3",
   "language": "python",
   "name": "python3"
  },
  "language_info": {
   "codemirror_mode": {
    "name": "ipython",
    "version": 3
   },
   "file_extension": ".py",
   "mimetype": "text/x-python",
   "name": "python",
   "nbconvert_exporter": "python",
   "pygments_lexer": "ipython3",
   "version": "3.13.2"
  }
 },
 "nbformat": 4,
 "nbformat_minor": 5
}
